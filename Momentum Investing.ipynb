{
 "cells": [
  {
   "cell_type": "markdown",
   "id": "d99e655a",
   "metadata": {},
   "source": [
    "## Importing Library"
   ]
  },
  {
   "cell_type": "code",
   "execution_count": 10,
   "id": "7295aa6a",
   "metadata": {
    "id": "7295aa6a"
   },
   "outputs": [],
   "source": [
    "import numpy as np\n",
    "import pandas as pd\n",
    "from scipy.stats import ttest_ind\n",
    "import statsmodels.formula.api as sm\n",
    "import matplotlib.pyplot as plt\n",
    "import yfinance as yf\n",
    "import datetime as dt\n",
    "import seaborn as sns"
   ]
  },
  {
   "cell_type": "code",
   "execution_count": 1,
   "id": "43e8fbdf",
   "metadata": {},
   "outputs": [],
   "source": [
    "# import ipywidgets as widgets\n",
    "# from ipywidgets import interact, interact_manual"
   ]
  },
  {
   "cell_type": "code",
   "execution_count": 74,
   "id": "34e9bc08",
   "metadata": {},
   "outputs": [],
   "source": [
    "rf=pd.read_csv('C:/Users/Sameer Kataria/Desktop/New folder/RF_total.csv', parse_dates=[\"Date\"])"
   ]
  },
  {
   "cell_type": "markdown",
   "id": "8c2b3eb1",
   "metadata": {},
   "source": [
    "### NIFTY50 Ticker Import"
   ]
  },
  {
   "cell_type": "code",
   "execution_count": 3,
   "id": "Q9J0mg5Hl2yw",
   "metadata": {
    "id": "Q9J0mg5Hl2yw"
   },
   "outputs": [],
   "source": [
    "\n",
    "Tickers_nifty = pd.read_csv(\"C:/Users/Sameer Kataria/Desktop/New folder/nifty50_tickers.csv\")\n",
    "ticker_list = Tickers_nifty['Ticker'].to_list()\n",
    "ticker_list = [s + '.NS' for s in ticker_list]"
   ]
  },
  {
   "cell_type": "code",
   "execution_count": 4,
   "id": "aa7c7721",
   "metadata": {},
   "outputs": [],
   "source": [
    "def get_ticker_data(start_date, end_date):\n",
    "    df = yf.download(\" \".join(ticker_list), start = start_date, end = end_date, interval=\"1d\")[\"Adj Close\"]\n",
    "    df_index = yf.download(\"^NSEI\", start=start_date, end=end_date, interval=\"1d\")[\"Adj Close\"]\n",
    "    \n",
    "    return df, df_index"
   ]
  },
  {
   "cell_type": "code",
   "execution_count": 73,
   "id": "beef52da",
   "metadata": {},
   "outputs": [
    {
     "name": "stdout",
     "output_type": "stream",
     "text": [
      "[*********************100%***********************]  50 of 50 completed\n",
      "[*********************100%***********************]  1 of 1 completed\n"
     ]
    },
    {
     "data": {
      "text/html": [
       "<div>\n",
       "<style scoped>\n",
       "    .dataframe tbody tr th:only-of-type {\n",
       "        vertical-align: middle;\n",
       "    }\n",
       "\n",
       "    .dataframe tbody tr th {\n",
       "        vertical-align: top;\n",
       "    }\n",
       "\n",
       "    .dataframe thead th {\n",
       "        text-align: right;\n",
       "    }\n",
       "</style>\n",
       "<table border=\"1\" class=\"dataframe\">\n",
       "  <thead>\n",
       "    <tr style=\"text-align: right;\">\n",
       "      <th></th>\n",
       "      <th>ADANIPORTS.NS</th>\n",
       "      <th>ASIANPAINT.NS</th>\n",
       "      <th>AXISBANK.NS</th>\n",
       "      <th>BAJAJ-AUTO.NS</th>\n",
       "      <th>BAJAJFINSV.NS</th>\n",
       "      <th>BAJFINANCE.NS</th>\n",
       "      <th>BHARTIARTL.NS</th>\n",
       "      <th>BPCL.NS</th>\n",
       "      <th>BRITANNIA.NS</th>\n",
       "      <th>CIPLA.NS</th>\n",
       "      <th>...</th>\n",
       "      <th>SUNPHARMA.NS</th>\n",
       "      <th>TATACONSUM.NS</th>\n",
       "      <th>TATAMOTORS.NS</th>\n",
       "      <th>TATASTEEL.NS</th>\n",
       "      <th>TCS.NS</th>\n",
       "      <th>TECHM.NS</th>\n",
       "      <th>TITAN.NS</th>\n",
       "      <th>ULTRACEMCO.NS</th>\n",
       "      <th>UPL.NS</th>\n",
       "      <th>WIPRO.NS</th>\n",
       "    </tr>\n",
       "    <tr>\n",
       "      <th>Date</th>\n",
       "      <th></th>\n",
       "      <th></th>\n",
       "      <th></th>\n",
       "      <th></th>\n",
       "      <th></th>\n",
       "      <th></th>\n",
       "      <th></th>\n",
       "      <th></th>\n",
       "      <th></th>\n",
       "      <th></th>\n",
       "      <th></th>\n",
       "      <th></th>\n",
       "      <th></th>\n",
       "      <th></th>\n",
       "      <th></th>\n",
       "      <th></th>\n",
       "      <th></th>\n",
       "      <th></th>\n",
       "      <th></th>\n",
       "      <th></th>\n",
       "      <th></th>\n",
       "    </tr>\n",
       "  </thead>\n",
       "  <tbody>\n",
       "    <tr>\n",
       "      <th>2010-01-04</th>\n",
       "      <td>104.207397</td>\n",
       "      <td>161.931580</td>\n",
       "      <td>181.382095</td>\n",
       "      <td>639.060120</td>\n",
       "      <td>347.893127</td>\n",
       "      <td>30.862938</td>\n",
       "      <td>281.826508</td>\n",
       "      <td>62.784206</td>\n",
       "      <td>142.882507</td>\n",
       "      <td>318.082794</td>\n",
       "      <td>...</td>\n",
       "      <td>140.712250</td>\n",
       "      <td>79.272255</td>\n",
       "      <td>153.140793</td>\n",
       "      <td>458.091949</td>\n",
       "      <td>299.748260</td>\n",
       "      <td>210.172485</td>\n",
       "      <td>65.893379</td>\n",
       "      <td>922.355286</td>\n",
       "      <td>100.624146</td>\n",
       "      <td>138.392899</td>\n",
       "    </tr>\n",
       "    <tr>\n",
       "      <th>2010-01-05</th>\n",
       "      <td>107.801086</td>\n",
       "      <td>162.443085</td>\n",
       "      <td>185.166595</td>\n",
       "      <td>642.011780</td>\n",
       "      <td>348.667419</td>\n",
       "      <td>30.656046</td>\n",
       "      <td>286.289581</td>\n",
       "      <td>61.838699</td>\n",
       "      <td>143.096619</td>\n",
       "      <td>312.381775</td>\n",
       "      <td>...</td>\n",
       "      <td>144.941101</td>\n",
       "      <td>85.418625</td>\n",
       "      <td>150.472473</td>\n",
       "      <td>469.187347</td>\n",
       "      <td>299.827972</td>\n",
       "      <td>212.863846</td>\n",
       "      <td>67.244629</td>\n",
       "      <td>941.449646</td>\n",
       "      <td>105.558678</td>\n",
       "      <td>140.577057</td>\n",
       "    </tr>\n",
       "    <tr>\n",
       "      <th>2010-01-06</th>\n",
       "      <td>113.144814</td>\n",
       "      <td>161.954269</td>\n",
       "      <td>182.058548</td>\n",
       "      <td>632.086670</td>\n",
       "      <td>340.440643</td>\n",
       "      <td>31.096815</td>\n",
       "      <td>283.256439</td>\n",
       "      <td>60.907658</td>\n",
       "      <td>141.795013</td>\n",
       "      <td>325.008972</td>\n",
       "      <td>...</td>\n",
       "      <td>146.822113</td>\n",
       "      <td>86.754784</td>\n",
       "      <td>150.704086</td>\n",
       "      <td>464.091370</td>\n",
       "      <td>293.048523</td>\n",
       "      <td>213.911636</td>\n",
       "      <td>68.327011</td>\n",
       "      <td>942.595276</td>\n",
       "      <td>103.682983</td>\n",
       "      <td>137.734619</td>\n",
       "    </tr>\n",
       "    <tr>\n",
       "      <th>2010-01-07</th>\n",
       "      <td>111.806541</td>\n",
       "      <td>160.302017</td>\n",
       "      <td>183.347488</td>\n",
       "      <td>620.999329</td>\n",
       "      <td>337.779114</td>\n",
       "      <td>30.907913</td>\n",
       "      <td>285.466278</td>\n",
       "      <td>59.725788</td>\n",
       "      <td>141.212723</td>\n",
       "      <td>322.323364</td>\n",
       "      <td>...</td>\n",
       "      <td>144.586365</td>\n",
       "      <td>87.059593</td>\n",
       "      <td>145.552780</td>\n",
       "      <td>469.693207</td>\n",
       "      <td>284.893341</td>\n",
       "      <td>209.206863</td>\n",
       "      <td>70.025917</td>\n",
       "      <td>934.050537</td>\n",
       "      <td>102.701851</td>\n",
       "      <td>135.291092</td>\n",
       "    </tr>\n",
       "    <tr>\n",
       "      <th>2010-01-08</th>\n",
       "      <td>111.675514</td>\n",
       "      <td>162.950089</td>\n",
       "      <td>185.742508</td>\n",
       "      <td>610.723694</td>\n",
       "      <td>338.746918</td>\n",
       "      <td>31.470116</td>\n",
       "      <td>281.696472</td>\n",
       "      <td>60.738827</td>\n",
       "      <td>141.525269</td>\n",
       "      <td>321.428131</td>\n",
       "      <td>...</td>\n",
       "      <td>147.022827</td>\n",
       "      <td>87.493835</td>\n",
       "      <td>146.349548</td>\n",
       "      <td>468.717438</td>\n",
       "      <td>279.071075</td>\n",
       "      <td>214.712875</td>\n",
       "      <td>69.379272</td>\n",
       "      <td>945.459412</td>\n",
       "      <td>102.066994</td>\n",
       "      <td>133.256485</td>\n",
       "    </tr>\n",
       "    <tr>\n",
       "      <th>...</th>\n",
       "      <td>...</td>\n",
       "      <td>...</td>\n",
       "      <td>...</td>\n",
       "      <td>...</td>\n",
       "      <td>...</td>\n",
       "      <td>...</td>\n",
       "      <td>...</td>\n",
       "      <td>...</td>\n",
       "      <td>...</td>\n",
       "      <td>...</td>\n",
       "      <td>...</td>\n",
       "      <td>...</td>\n",
       "      <td>...</td>\n",
       "      <td>...</td>\n",
       "      <td>...</td>\n",
       "      <td>...</td>\n",
       "      <td>...</td>\n",
       "      <td>...</td>\n",
       "      <td>...</td>\n",
       "      <td>...</td>\n",
       "      <td>...</td>\n",
       "    </tr>\n",
       "    <tr>\n",
       "      <th>2021-11-25</th>\n",
       "      <td>762.450012</td>\n",
       "      <td>3144.250000</td>\n",
       "      <td>679.900024</td>\n",
       "      <td>3391.699951</td>\n",
       "      <td>17368.849609</td>\n",
       "      <td>7125.799805</td>\n",
       "      <td>765.150024</td>\n",
       "      <td>400.100006</td>\n",
       "      <td>3573.399902</td>\n",
       "      <td>899.950012</td>\n",
       "      <td>...</td>\n",
       "      <td>782.900024</td>\n",
       "      <td>807.799988</td>\n",
       "      <td>492.750000</td>\n",
       "      <td>1173.650024</td>\n",
       "      <td>3445.899902</td>\n",
       "      <td>1559.349976</td>\n",
       "      <td>2397.800049</td>\n",
       "      <td>7608.799805</td>\n",
       "      <td>727.299988</td>\n",
       "      <td>636.700012</td>\n",
       "    </tr>\n",
       "    <tr>\n",
       "      <th>2021-11-26</th>\n",
       "      <td>717.150024</td>\n",
       "      <td>3143.100098</td>\n",
       "      <td>661.750000</td>\n",
       "      <td>3334.600098</td>\n",
       "      <td>16682.550781</td>\n",
       "      <td>6807.049805</td>\n",
       "      <td>738.750000</td>\n",
       "      <td>376.850006</td>\n",
       "      <td>3555.300049</td>\n",
       "      <td>966.700012</td>\n",
       "      <td>...</td>\n",
       "      <td>767.299988</td>\n",
       "      <td>766.700012</td>\n",
       "      <td>460.200012</td>\n",
       "      <td>1112.300049</td>\n",
       "      <td>3446.850098</td>\n",
       "      <td>1527.400024</td>\n",
       "      <td>2292.300049</td>\n",
       "      <td>7394.750000</td>\n",
       "      <td>703.799988</td>\n",
       "      <td>621.450012</td>\n",
       "    </tr>\n",
       "    <tr>\n",
       "      <th>2021-11-29</th>\n",
       "      <td>702.599976</td>\n",
       "      <td>3144.300049</td>\n",
       "      <td>651.099976</td>\n",
       "      <td>3298.199951</td>\n",
       "      <td>16890.400391</td>\n",
       "      <td>6905.750000</td>\n",
       "      <td>739.349976</td>\n",
       "      <td>367.450012</td>\n",
       "      <td>3528.600098</td>\n",
       "      <td>965.000000</td>\n",
       "      <td>...</td>\n",
       "      <td>751.049988</td>\n",
       "      <td>766.000000</td>\n",
       "      <td>461.450012</td>\n",
       "      <td>1114.750000</td>\n",
       "      <td>3502.000000</td>\n",
       "      <td>1536.650024</td>\n",
       "      <td>2324.199951</td>\n",
       "      <td>7388.250000</td>\n",
       "      <td>689.349976</td>\n",
       "      <td>630.599976</td>\n",
       "    </tr>\n",
       "    <tr>\n",
       "      <th>2021-11-30</th>\n",
       "      <td>683.849976</td>\n",
       "      <td>3143.649902</td>\n",
       "      <td>655.650024</td>\n",
       "      <td>3240.300049</td>\n",
       "      <td>17237.349609</td>\n",
       "      <td>6997.250000</td>\n",
       "      <td>728.250000</td>\n",
       "      <td>370.000000</td>\n",
       "      <td>3545.500000</td>\n",
       "      <td>971.299988</td>\n",
       "      <td>...</td>\n",
       "      <td>753.599976</td>\n",
       "      <td>778.599976</td>\n",
       "      <td>458.600006</td>\n",
       "      <td>1071.199951</td>\n",
       "      <td>3529.149902</td>\n",
       "      <td>1541.449951</td>\n",
       "      <td>2375.500000</td>\n",
       "      <td>7433.750000</td>\n",
       "      <td>681.700012</td>\n",
       "      <td>637.250000</td>\n",
       "    </tr>\n",
       "    <tr>\n",
       "      <th>2021-12-01</th>\n",
       "      <td>707.950012</td>\n",
       "      <td>3138.149902</td>\n",
       "      <td>679.599976</td>\n",
       "      <td>3249.550049</td>\n",
       "      <td>17382.949219</td>\n",
       "      <td>7038.700195</td>\n",
       "      <td>722.250000</td>\n",
       "      <td>368.750000</td>\n",
       "      <td>3535.250000</td>\n",
       "      <td>928.150024</td>\n",
       "      <td>...</td>\n",
       "      <td>745.349976</td>\n",
       "      <td>772.799988</td>\n",
       "      <td>475.250000</td>\n",
       "      <td>1082.550049</td>\n",
       "      <td>3577.800049</td>\n",
       "      <td>1587.599976</td>\n",
       "      <td>2360.199951</td>\n",
       "      <td>7322.600098</td>\n",
       "      <td>690.500000</td>\n",
       "      <td>634.799988</td>\n",
       "    </tr>\n",
       "  </tbody>\n",
       "</table>\n",
       "<p>2940 rows × 50 columns</p>\n",
       "</div>"
      ],
      "text/plain": [
       "            ADANIPORTS.NS  ASIANPAINT.NS  AXISBANK.NS  BAJAJ-AUTO.NS  \\\n",
       "Date                                                                   \n",
       "2010-01-04     104.207397     161.931580   181.382095     639.060120   \n",
       "2010-01-05     107.801086     162.443085   185.166595     642.011780   \n",
       "2010-01-06     113.144814     161.954269   182.058548     632.086670   \n",
       "2010-01-07     111.806541     160.302017   183.347488     620.999329   \n",
       "2010-01-08     111.675514     162.950089   185.742508     610.723694   \n",
       "...                   ...            ...          ...            ...   \n",
       "2021-11-25     762.450012    3144.250000   679.900024    3391.699951   \n",
       "2021-11-26     717.150024    3143.100098   661.750000    3334.600098   \n",
       "2021-11-29     702.599976    3144.300049   651.099976    3298.199951   \n",
       "2021-11-30     683.849976    3143.649902   655.650024    3240.300049   \n",
       "2021-12-01     707.950012    3138.149902   679.599976    3249.550049   \n",
       "\n",
       "            BAJAJFINSV.NS  BAJFINANCE.NS  BHARTIARTL.NS     BPCL.NS  \\\n",
       "Date                                                                  \n",
       "2010-01-04     347.893127      30.862938     281.826508   62.784206   \n",
       "2010-01-05     348.667419      30.656046     286.289581   61.838699   \n",
       "2010-01-06     340.440643      31.096815     283.256439   60.907658   \n",
       "2010-01-07     337.779114      30.907913     285.466278   59.725788   \n",
       "2010-01-08     338.746918      31.470116     281.696472   60.738827   \n",
       "...                   ...            ...            ...         ...   \n",
       "2021-11-25   17368.849609    7125.799805     765.150024  400.100006   \n",
       "2021-11-26   16682.550781    6807.049805     738.750000  376.850006   \n",
       "2021-11-29   16890.400391    6905.750000     739.349976  367.450012   \n",
       "2021-11-30   17237.349609    6997.250000     728.250000  370.000000   \n",
       "2021-12-01   17382.949219    7038.700195     722.250000  368.750000   \n",
       "\n",
       "            BRITANNIA.NS    CIPLA.NS  ...  SUNPHARMA.NS  TATACONSUM.NS  \\\n",
       "Date                                  ...                                \n",
       "2010-01-04    142.882507  318.082794  ...    140.712250      79.272255   \n",
       "2010-01-05    143.096619  312.381775  ...    144.941101      85.418625   \n",
       "2010-01-06    141.795013  325.008972  ...    146.822113      86.754784   \n",
       "2010-01-07    141.212723  322.323364  ...    144.586365      87.059593   \n",
       "2010-01-08    141.525269  321.428131  ...    147.022827      87.493835   \n",
       "...                  ...         ...  ...           ...            ...   \n",
       "2021-11-25   3573.399902  899.950012  ...    782.900024     807.799988   \n",
       "2021-11-26   3555.300049  966.700012  ...    767.299988     766.700012   \n",
       "2021-11-29   3528.600098  965.000000  ...    751.049988     766.000000   \n",
       "2021-11-30   3545.500000  971.299988  ...    753.599976     778.599976   \n",
       "2021-12-01   3535.250000  928.150024  ...    745.349976     772.799988   \n",
       "\n",
       "            TATAMOTORS.NS  TATASTEEL.NS       TCS.NS     TECHM.NS  \\\n",
       "Date                                                                \n",
       "2010-01-04     153.140793    458.091949   299.748260   210.172485   \n",
       "2010-01-05     150.472473    469.187347   299.827972   212.863846   \n",
       "2010-01-06     150.704086    464.091370   293.048523   213.911636   \n",
       "2010-01-07     145.552780    469.693207   284.893341   209.206863   \n",
       "2010-01-08     146.349548    468.717438   279.071075   214.712875   \n",
       "...                   ...           ...          ...          ...   \n",
       "2021-11-25     492.750000   1173.650024  3445.899902  1559.349976   \n",
       "2021-11-26     460.200012   1112.300049  3446.850098  1527.400024   \n",
       "2021-11-29     461.450012   1114.750000  3502.000000  1536.650024   \n",
       "2021-11-30     458.600006   1071.199951  3529.149902  1541.449951   \n",
       "2021-12-01     475.250000   1082.550049  3577.800049  1587.599976   \n",
       "\n",
       "               TITAN.NS  ULTRACEMCO.NS      UPL.NS    WIPRO.NS  \n",
       "Date                                                            \n",
       "2010-01-04    65.893379     922.355286  100.624146  138.392899  \n",
       "2010-01-05    67.244629     941.449646  105.558678  140.577057  \n",
       "2010-01-06    68.327011     942.595276  103.682983  137.734619  \n",
       "2010-01-07    70.025917     934.050537  102.701851  135.291092  \n",
       "2010-01-08    69.379272     945.459412  102.066994  133.256485  \n",
       "...                 ...            ...         ...         ...  \n",
       "2021-11-25  2397.800049    7608.799805  727.299988  636.700012  \n",
       "2021-11-26  2292.300049    7394.750000  703.799988  621.450012  \n",
       "2021-11-29  2324.199951    7388.250000  689.349976  630.599976  \n",
       "2021-11-30  2375.500000    7433.750000  681.700012  637.250000  \n",
       "2021-12-01  2360.199951    7322.600098  690.500000  634.799988  \n",
       "\n",
       "[2940 rows x 50 columns]"
      ]
     },
     "execution_count": 73,
     "metadata": {},
     "output_type": "execute_result"
    }
   ],
   "source": [
    "df, df_index = get_ticker_data(\"2010-01-01\", \"2021-12-01\")\n",
    "df"
   ]
  },
  {
   "cell_type": "code",
   "execution_count": 6,
   "id": "6633cf9a",
   "metadata": {},
   "outputs": [],
   "source": [
    "## Creating a function to generates the top 5 performing stocks from NIFTY50 till date\n",
    "\n",
    "def top_5_stocks(data):\n",
    "    list_returns=[]\n",
    "    for stock in data.columns:\n",
    "        list_returns.append([stock,(data[stock][-1]-data[stock][0])/data[stock][0]])\n",
    "    list_returns = [[tick,item] for tick,item in list_returns if str(item) != 'nan'] \n",
    "    df = sorted(list_returns, key = lambda x: x[1], reverse=True)\n",
    "    df=df[:5]\n",
    "    df=[tick for tick, item in df]\n",
    "    return df"
   ]
  },
  {
   "cell_type": "code",
   "execution_count": 7,
   "id": "23f30404",
   "metadata": {},
   "outputs": [],
   "source": [
    "## Visualize the return distribution of the stocks from NIFTY50 over the period\n",
    "\n",
    "def distribution_function(tickers, data):\n",
    "    for ticker in tickers:\n",
    "        plt.figure(figsize=(8,6))\n",
    "        sns.histplot(data[ticker].pct_change(), bins=10, color=\"red\")\n",
    "        plt.axvline(data[ticker].pct_change().mean(), color='black', linestyle='dashed', linewidth=1)\n",
    "        plt.axvline(data[ticker].pct_change().median(), color='yellow', linestyle='dashed', linewidth=1)\n",
    "        ax=plt.gca()\n",
    "        plt.text(0.8, 0.8, 'Mean: {}'.format(round(data[ticker].pct_change().mean(),3)), fontsize = 11.5, transform=ax.transAxes )\n",
    "        plt.text(0.8, 0.75, 'Median: {}'.format(round(data[ticker].pct_change().median(),3)), fontsize = 11.5, transform=ax.transAxes)\n",
    "        plt.title(\"Monthly Returns distribution of {}\".format(ticker))\n",
    "        plt.xlabel(\"\")\n",
    "        plt.show()     "
   ]
  },
  {
   "cell_type": "code",
   "execution_count": 8,
   "id": "b34f3483",
   "metadata": {},
   "outputs": [],
   "source": [
    "## Compute the cummulative returns for the stock\n",
    "\n",
    "def cumreturn_function(tickers,data):\n",
    "    for ticker in tickers:\n",
    "        plt.figure(figsize=(8,6))\n",
    "        sns.lineplot(data=(1+data[ticker].pct_change()).cumprod(), color=\"red\")\n",
    "        plt.title(\"Cumilative returns of {}\".format(ticker))\n",
    "        plt.ylabel(\" \")\n",
    "        plt.show()"
   ]
  },
  {
   "cell_type": "code",
   "execution_count": 15,
   "id": "5beb90c6",
   "metadata": {},
   "outputs": [],
   "source": [
    "df_1=df.resample(\"M\").last()"
   ]
  },
  {
   "cell_type": "markdown",
   "id": "ea72c8ef",
   "metadata": {},
   "source": [
    "## Return Distribution"
   ]
  },
  {
   "cell_type": "code",
   "execution_count": 16,
   "id": "850c57c8",
   "metadata": {},
   "outputs": [
    {
     "data": {
      "image/png": "[encoded data removed]",
      "text/plain": [
       "<Figure size 576x432 with 1 Axes>"
      ]
     },
     "metadata": {
      "needs_background": "light"
     },
     "output_type": "display_data"
    },
    {
     "data": {
      "image/png": "[encoded data removed]",
      "text/plain": [
       "<Figure size 576x432 with 1 Axes>"
      ]
     },
     "metadata": {
      "needs_background": "light"
     },
     "output_type": "display_data"
    },
    {
     "data": {
      "image/png": "[encoded data removed]",
      "text/plain": [
       "<Figure size 576x432 with 1 Axes>"
      ]
     },
     "metadata": {
      "needs_background": "light"
     },
     "output_type": "display_data"
    },
    {
     "data": {
      "image/png": "[encoded data removed]",
      "text/plain": [
       "<Figure size 576x432 with 1 Axes>"
      ]
     },
     "metadata": {
      "needs_background": "light"
     },
     "output_type": "display_data"
    },
    {
     "data": {
      "image/png": "[encoded data removed]",
      "text/plain": [
       "<Figure size 576x432 with 1 Axes>"
      ]
     },
     "metadata": {
      "needs_background": "light"
     },
     "output_type": "display_data"
    }
   ],
   "source": [
    "distribution_function(top_5_stocks(df_1),df_1)"
   ]
  },
  {
   "cell_type": "markdown",
   "id": "196a04d2",
   "metadata": {},
   "source": [
    "## Cummulative Return"
   ]
  },
  {
   "cell_type": "code",
   "execution_count": 18,
   "id": "b36b0657",
   "metadata": {},
   "outputs": [
    {
     "data": {
      "image/png": "[encoded data removed]",
      "text/plain": [
       "<Figure size 576x432 with 1 Axes>"
      ]
     },
     "metadata": {
      "needs_background": "light"
     },
     "output_type": "display_data"
    },
    {
     "data": {
      "image/png": "[encoded data removed]",
      "text/plain": [
       "<Figure size 576x432 with 1 Axes>"
      ]
     },
     "metadata": {
      "needs_background": "light"
     },
     "output_type": "display_data"
    },
    {
     "data": {
      "image/png": "[encoded data removed]",
      "text/plain": [
       "<Figure size 576x432 with 1 Axes>"
      ]
     },
     "metadata": {
      "needs_background": "light"
     },
     "output_type": "display_data"
    },
    {
     "data": {
      "image/png": "[encoded data removed]",
      "text/plain": [
       "<Figure size 576x432 with 1 Axes>"
      ]
     },
     "metadata": {
      "needs_background": "light"
     },
     "output_type": "display_data"
    },
    {
     "data": {
      "image/png": "[encoded data removed]",
      "text/plain": [
       "<Figure size 576x432 with 1 Axes>"
      ]
     },
     "metadata": {
      "needs_background": "light"
     },
     "output_type": "display_data"
    }
   ],
   "source": [
    "cumreturn_function(top_5_stocks(df_1),df_1)"
   ]
  },
  {
   "cell_type": "code",
   "execution_count": 100,
   "id": "40a2deab",
   "metadata": {},
   "outputs": [],
   "source": [
    "## Function to implement Momentum strategy and return the top recommendations for investment\n",
    "\n",
    "def reb_stock_list(date, df):\n",
    "    #Please enter date in end of month format\n",
    "    #For stocks to invest in December enter date as end of November(2021-11-30)\n",
    "    date_1 = date.split('-')\n",
    "    y = int(date_1[0])\n",
    "    m = int(date_1[1])\n",
    "    d = int(date_1[2])\n",
    "    reb_date = dt.datetime(y,m,d)\n",
    "    stocks = df[df[\"Date\"]==reb_date][\"Ticker\"].to_list()\n",
    "    return stocks\n",
    "\n",
    "def month_wise_12m_investing(df, month_number):\n",
    "    temp_1 = df.reset_index()\n",
    "    temp_1[\"month\"] = temp_1[\"Date\"].dt.month\n",
    "    month = temp_1[temp_1[\"month\"]==9]\n",
    "    month[\"ret12\"]=(1+month[\"RET_RollProd_Forward_12\"]).cumprod()\n",
    "    plt.plot(month[\"Date\"], month[\"ret12\"])\n",
    "\n",
    "def momentum_unleash(df, period, qcut, rebalance_date):\n",
    "    ## Resample by period\n",
    "    df = df.resample(period).last()\n",
    "    \n",
    "    if period == 'M':\n",
    "        roll = 12\n",
    "    elif period == '3M':\n",
    "        roll = 4\n",
    "    elif period == '6M':\n",
    "        roll = 2\n",
    "    elif period == '12M':\n",
    "        roll = 1\n",
    "    \n",
    "    ## Data preparation\n",
    "    daily_data=pd.melt(df, ignore_index=False)\n",
    "    daily_data=daily_data.reset_index()\n",
    "    daily_data.rename(columns={\"value\":\"Adj Close\", \"variable\":\"Ticker\"}, inplace=True) # Rename columns\n",
    "    daily_data[\"Return\"]=daily_data.groupby(\"Ticker\")[\"Adj Close\"].pct_change() # Create return column\n",
    "    \n",
    "    #######################\n",
    "    ## Momentum Strategy ##\n",
    "    #######################\n",
    "    \n",
    "    ## Computing Rolling Product of returns\n",
    "    daily_data['RET_plus_1'] = daily_data['Return']+1 #Adding 1 to each returns for calculating the rolling period returns\n",
    "\n",
    "    ## Calculating the cummulative historical period returns on rolling-basis (i.e. stock’s return over the months T-12 to T-1)\n",
    "    daily_data['RET_RollProd_Past_12m'] = (daily_data.groupby('Ticker')['RET_plus_1'].shift(1).rolling(roll).apply(lambda x : x.prod()))-1\n",
    "    \n",
    "    ## Calculating the cummulative future period returns on rolling-basis (i.e.,  compound return over the next 'X' months, where X=1, 3, 6, 12 and 60)\n",
    "    daily_data['RET_RollProd_Forward_1'] = (daily_data.groupby('Ticker')['RET_plus_1'].shift(0).rolling(1).apply(lambda x : x.prod()))-1\n",
    "    daily_data['RET_RollProd_Forward_3'] = (daily_data.groupby('Ticker')['RET_plus_1'].shift(-2).rolling(3).apply(lambda x : x.prod()))-1\n",
    "    daily_data['RET_RollProd_Forward_6'] = (daily_data.groupby('Ticker')['RET_plus_1'].shift(-5).rolling(6).apply(lambda x : x.prod()))-1\n",
    "    daily_data['RET_RollProd_Forward_12'] = (daily_data.groupby('Ticker')['RET_plus_1'].shift(-11).rolling(12).apply(lambda x : x.prod()))-1\n",
    "    # daily_data['RET_RollProd_Forward_60'] = (daily_data.groupby('Ticker')['RET_plus_1'].shift(-60).rolling(60).apply(lambda x : x.prod()))-1\n",
    "\n",
    "    daily_data.dropna(subset=[\"RET_RollProd_Past_12m\"], inplace=True) # compute 12 month return rolling product\n",
    "    daily_data.reset_index(drop=True, inplace=True)\n",
    "    \n",
    "    ## Top, Bottom and Neither Deciles for all the stocks in a month\n",
    "    daily_data['Deciles'] = daily_data.groupby('Date')['RET_RollProd_Past_12m'].transform(lambda x: pd.qcut(x, qcut, duplicates='drop', labels=False))\n",
    "    daily_data.loc[daily_data['Deciles']==(qcut-1), 'Rank_Deciles'] = 'UP'\n",
    "    daily_data.loc[daily_data['Deciles']==0, 'Rank_Deciles'] = 'DOWN'\n",
    "    daily_data.loc[((daily_data['Deciles']>=1) & (daily_data['Deciles']<=(qcut-2))), 'Rank_Deciles'] = 'Neither'\n",
    "\n",
    "    ## Seperating UP decile companies into separate dataframes\n",
    "    daily_data_UP = daily_data[daily_data['Rank_Deciles']=='UP']\n",
    "    \n",
    "    ## Create equal weighted portfolio return from UP protfolio\n",
    "    Eq_wtd_port_up = daily_data_UP.sort_values(['Date']).groupby('Date')[[ 'RET_RollProd_Forward_1', 'RET_RollProd_Forward_3', 'RET_RollProd_Forward_6', 'RET_RollProd_Forward_12']].agg('mean')\n",
    "    \n",
    "    ## Cummulative returns of momentum based portfolio\n",
    "    Eq_wtd_port_up[\"ret_port\"]=(1+Eq_wtd_port_up[\"RET_RollProd_Forward_1\"]).cumprod()\n",
    "    plt.plot(Eq_wtd_port_up.index, Eq_wtd_port_up[\"ret_port\"], color='red') # Plot commulative returns till now\n",
    "    plt.xlabel(\"year\")\n",
    "    plt.ylabel(\"cummulative returns\")\n",
    "    \n",
    "    mean=Eq_wtd_port_up[\"RET_RollProd_Forward_1\"].mean()*12\n",
    "    stdev= Eq_wtd_port_up[\"RET_RollProd_Forward_1\"].std()*np.sqrt(12)\n",
    "    print(\"Sharpe Ratio from startdate to enddate is : {}\".format(mean/stdev))\n",
    "    print(\"Ann Return from startdate to enddateis : {}%\".format(mean*100))\n",
    "    \n",
    "    ## Get Portfolio stocks for investment\n",
    "    stocks = reb_stock_list(rebalance_date, daily_data_UP)\n",
    "    \n",
    "    print(\"\\n Stock to Invest in for {}\".format(rebalance_date)) \n",
    "    return stocks,Eq_wtd_port_up"
   ]
  },
  {
   "cell_type": "code",
   "execution_count": 37,
   "id": "a8db7101",
   "metadata": {},
   "outputs": [
    {
     "name": "stdout",
     "output_type": "stream",
     "text": [
      "Enter Period: \n",
      "Enter qcut: \n",
      "Enter Date to invest: 2021-12-31\n"
     ]
    }
   ],
   "source": [
    "period = str(input(\"Enter Period: \") or \"M\")\n",
    "qcut = int(input(\"Enter qcut: \") or 5)\n",
    "date = input(\"Enter Date to invest: \")"
   ]
  },
  {
   "cell_type": "code",
   "execution_count": 101,
   "id": "0f4251f8",
   "metadata": {},
   "outputs": [
    {
     "name": "stdout",
     "output_type": "stream",
     "text": [
      "Sharpe Ratio from startdate to enddate is : 1.2800622953561636\n",
      "Ann Return from startdate to enddateis : 23.187884464327567%\n",
      "\n",
      " Stock to Invest in for 2021-12-31\n"
     ]
    },
    {
     "data": {
      "text/plain": [
       "['BAJAJFINSV.NS',\n",
       " 'GRASIM.NS',\n",
       " 'HINDALCO.NS',\n",
       " 'JSWSTEEL.NS',\n",
       " 'ONGC.NS',\n",
       " 'SBIN.NS',\n",
       " 'TATAMOTORS.NS',\n",
       " 'TATASTEEL.NS',\n",
       " 'TECHM.NS',\n",
       " 'WIPRO.NS']"
      ]
     },
     "execution_count": 101,
     "metadata": {},
     "output_type": "execute_result"
    },
    {
     "data": {
      "image/png": "[encoded data removed]",
      "text/plain": [
       "<Figure size 432x288 with 1 Axes>"
      ]
     },
     "metadata": {
      "needs_background": "light"
     },
     "output_type": "display_data"
    }
   ],
   "source": [
    "#momentum_unleash(df, 'M', 5, \"2021-12-31\")\n",
    "stocks, portfolio = momentum_unleash(df, period, qcut, date)\n",
    "stocks"
   ]
  },
  {
   "cell_type": "markdown",
   "id": "3eae702b",
   "metadata": {},
   "source": [
    "## Applying CAPM to calculate portfolio metrics"
   ]
  },
  {
   "cell_type": "code",
   "execution_count": 96,
   "id": "1add95dc",
   "metadata": {},
   "outputs": [],
   "source": [
    "capm_portfolio=portfolio.reset_index()[[\"Date\",\"RET_RollProd_Forward_1\"]]\n",
    "capm_portfolio.rename(columns={'RET_RollProd_Forward_1':\"Return\"}, inplace=True)"
   ]
  },
  {
   "cell_type": "code",
   "execution_count": 75,
   "id": "5bc341f9",
   "metadata": {},
   "outputs": [],
   "source": [
    "df_index=df_index.resample(\"M\").last().pct_change()"
   ]
  },
  {
   "cell_type": "code",
   "execution_count": 76,
   "id": "cedf2496",
   "metadata": {},
   "outputs": [],
   "source": [
    "df_index=pd.DataFrame(df_index).reset_index()\n",
    "df_index.rename(columns={\"Adj Close\":\"Return_idx\"}, inplace=True)"
   ]
  },
  {
   "cell_type": "code",
   "execution_count": 77,
   "id": "997df843",
   "metadata": {},
   "outputs": [],
   "source": [
    "rf[\"Date\"]=rf[\"Date\"]+pd.offsets.MonthEnd(0)"
   ]
  },
  {
   "cell_type": "code",
   "execution_count": 79,
   "id": "f143a44c",
   "metadata": {},
   "outputs": [
    {
     "data": {
      "text/html": [
       "<div>\n",
       "<style scoped>\n",
       "    .dataframe tbody tr th:only-of-type {\n",
       "        vertical-align: middle;\n",
       "    }\n",
       "\n",
       "    .dataframe tbody tr th {\n",
       "        vertical-align: top;\n",
       "    }\n",
       "\n",
       "    .dataframe thead th {\n",
       "        text-align: right;\n",
       "    }\n",
       "</style>\n",
       "<table border=\"1\" class=\"dataframe\">\n",
       "  <thead>\n",
       "    <tr style=\"text-align: right;\">\n",
       "      <th></th>\n",
       "      <th>Date</th>\n",
       "      <th>Return</th>\n",
       "      <th>ROI M</th>\n",
       "      <th>Return_idx</th>\n",
       "    </tr>\n",
       "  </thead>\n",
       "  <tbody>\n",
       "    <tr>\n",
       "      <th>0</th>\n",
       "      <td>2011-02-28</td>\n",
       "      <td>-0.030594</td>\n",
       "      <td>0.001098</td>\n",
       "      <td>-0.031357</td>\n",
       "    </tr>\n",
       "    <tr>\n",
       "      <th>1</th>\n",
       "      <td>2011-03-31</td>\n",
       "      <td>0.130548</td>\n",
       "      <td>0.001098</td>\n",
       "      <td>0.093845</td>\n",
       "    </tr>\n",
       "    <tr>\n",
       "      <th>2</th>\n",
       "      <td>2011-04-30</td>\n",
       "      <td>0.010369</td>\n",
       "      <td>0.001098</td>\n",
       "      <td>-0.014442</td>\n",
       "    </tr>\n",
       "    <tr>\n",
       "      <th>3</th>\n",
       "      <td>2011-05-31</td>\n",
       "      <td>-0.015972</td>\n",
       "      <td>0.001098</td>\n",
       "      <td>-0.048074</td>\n",
       "    </tr>\n",
       "    <tr>\n",
       "      <th>4</th>\n",
       "      <td>2011-06-30</td>\n",
       "      <td>0.008310</td>\n",
       "      <td>0.001098</td>\n",
       "      <td>0.031847</td>\n",
       "    </tr>\n",
       "  </tbody>\n",
       "</table>\n",
       "</div>"
      ],
      "text/plain": [
       "        Date    Return     ROI M  Return_idx\n",
       "0 2011-02-28 -0.030594  0.001098   -0.031357\n",
       "1 2011-03-31  0.130548  0.001098    0.093845\n",
       "2 2011-04-30  0.010369  0.001098   -0.014442\n",
       "3 2011-05-31 -0.015972  0.001098   -0.048074\n",
       "4 2011-06-30  0.008310  0.001098    0.031847"
      ]
     },
     "execution_count": 79,
     "metadata": {},
     "output_type": "execute_result"
    }
   ],
   "source": [
    "Capm_data=pd.merge(pd.merge(capm_portfolio, rf[[\"Date\",\"ROI M\"]], how=\"left\", on=\"Date\"), df_index, how=\"left\", on=\"Date\")\n",
    "Capm_data.head()"
   ]
  },
  {
   "cell_type": "code",
   "execution_count": 81,
   "id": "d20f38f0",
   "metadata": {},
   "outputs": [
    {
     "data": {
      "text/html": [
       "<div>\n",
       "<style scoped>\n",
       "    .dataframe tbody tr th:only-of-type {\n",
       "        vertical-align: middle;\n",
       "    }\n",
       "\n",
       "    .dataframe tbody tr th {\n",
       "        vertical-align: top;\n",
       "    }\n",
       "\n",
       "    .dataframe thead th {\n",
       "        text-align: right;\n",
       "    }\n",
       "</style>\n",
       "<table border=\"1\" class=\"dataframe\">\n",
       "  <thead>\n",
       "    <tr style=\"text-align: right;\">\n",
       "      <th></th>\n",
       "      <th>Date</th>\n",
       "      <th>Return</th>\n",
       "      <th>ROI M</th>\n",
       "      <th>Return_idx</th>\n",
       "    </tr>\n",
       "  </thead>\n",
       "  <tbody>\n",
       "    <tr>\n",
       "      <th>126</th>\n",
       "      <td>2021-08-31</td>\n",
       "      <td>0.039844</td>\n",
       "      <td>0.003615</td>\n",
       "      <td>0.086858</td>\n",
       "    </tr>\n",
       "    <tr>\n",
       "      <th>127</th>\n",
       "      <td>2021-09-30</td>\n",
       "      <td>0.006395</td>\n",
       "      <td>0.003615</td>\n",
       "      <td>0.028365</td>\n",
       "    </tr>\n",
       "    <tr>\n",
       "      <th>128</th>\n",
       "      <td>2021-10-31</td>\n",
       "      <td>0.049267</td>\n",
       "      <td>0.003615</td>\n",
       "      <td>0.003037</td>\n",
       "    </tr>\n",
       "    <tr>\n",
       "      <th>129</th>\n",
       "      <td>2021-11-30</td>\n",
       "      <td>-0.064989</td>\n",
       "      <td>0.003615</td>\n",
       "      <td>-0.038958</td>\n",
       "    </tr>\n",
       "    <tr>\n",
       "      <th>130</th>\n",
       "      <td>2021-12-31</td>\n",
       "      <td>0.020162</td>\n",
       "      <td>0.003615</td>\n",
       "      <td>0.010817</td>\n",
       "    </tr>\n",
       "  </tbody>\n",
       "</table>\n",
       "</div>"
      ],
      "text/plain": [
       "          Date    Return     ROI M  Return_idx\n",
       "126 2021-08-31  0.039844  0.003615    0.086858\n",
       "127 2021-09-30  0.006395  0.003615    0.028365\n",
       "128 2021-10-31  0.049267  0.003615    0.003037\n",
       "129 2021-11-30 -0.064989  0.003615   -0.038958\n",
       "130 2021-12-31  0.020162  0.003615    0.010817"
      ]
     },
     "execution_count": 81,
     "metadata": {},
     "output_type": "execute_result"
    }
   ],
   "source": [
    "Capm_data[\"ROI M\"]=Capm_data['ROI M'].ffill()\n",
    "Capm_data.tail()"
   ]
  },
  {
   "cell_type": "code",
   "execution_count": 82,
   "id": "63f5d33b",
   "metadata": {},
   "outputs": [
    {
     "data": {
      "text/html": [
       "<div>\n",
       "<style scoped>\n",
       "    .dataframe tbody tr th:only-of-type {\n",
       "        vertical-align: middle;\n",
       "    }\n",
       "\n",
       "    .dataframe tbody tr th {\n",
       "        vertical-align: top;\n",
       "    }\n",
       "\n",
       "    .dataframe thead th {\n",
       "        text-align: right;\n",
       "    }\n",
       "</style>\n",
       "<table border=\"1\" class=\"dataframe\">\n",
       "  <thead>\n",
       "    <tr style=\"text-align: right;\">\n",
       "      <th></th>\n",
       "      <th>Date</th>\n",
       "      <th>Return</th>\n",
       "      <th>ROI M</th>\n",
       "      <th>Return_idx</th>\n",
       "      <th>RET_Exc</th>\n",
       "      <th>RET_idx_Exc</th>\n",
       "    </tr>\n",
       "  </thead>\n",
       "  <tbody>\n",
       "    <tr>\n",
       "      <th>0</th>\n",
       "      <td>2011-02-28</td>\n",
       "      <td>-0.030594</td>\n",
       "      <td>0.001098</td>\n",
       "      <td>-0.031357</td>\n",
       "      <td>-0.031693</td>\n",
       "      <td>-0.032456</td>\n",
       "    </tr>\n",
       "    <tr>\n",
       "      <th>1</th>\n",
       "      <td>2011-03-31</td>\n",
       "      <td>0.130548</td>\n",
       "      <td>0.001098</td>\n",
       "      <td>0.093845</td>\n",
       "      <td>0.129450</td>\n",
       "      <td>0.092747</td>\n",
       "    </tr>\n",
       "    <tr>\n",
       "      <th>2</th>\n",
       "      <td>2011-04-30</td>\n",
       "      <td>0.010369</td>\n",
       "      <td>0.001098</td>\n",
       "      <td>-0.014442</td>\n",
       "      <td>0.009271</td>\n",
       "      <td>-0.015540</td>\n",
       "    </tr>\n",
       "    <tr>\n",
       "      <th>3</th>\n",
       "      <td>2011-05-31</td>\n",
       "      <td>-0.015972</td>\n",
       "      <td>0.001098</td>\n",
       "      <td>-0.048074</td>\n",
       "      <td>-0.017070</td>\n",
       "      <td>-0.049172</td>\n",
       "    </tr>\n",
       "    <tr>\n",
       "      <th>4</th>\n",
       "      <td>2011-06-30</td>\n",
       "      <td>0.008310</td>\n",
       "      <td>0.001098</td>\n",
       "      <td>0.031847</td>\n",
       "      <td>0.007212</td>\n",
       "      <td>0.030748</td>\n",
       "    </tr>\n",
       "  </tbody>\n",
       "</table>\n",
       "</div>"
      ],
      "text/plain": [
       "        Date    Return     ROI M  Return_idx   RET_Exc  RET_idx_Exc\n",
       "0 2011-02-28 -0.030594  0.001098   -0.031357 -0.031693    -0.032456\n",
       "1 2011-03-31  0.130548  0.001098    0.093845  0.129450     0.092747\n",
       "2 2011-04-30  0.010369  0.001098   -0.014442  0.009271    -0.015540\n",
       "3 2011-05-31 -0.015972  0.001098   -0.048074 -0.017070    -0.049172\n",
       "4 2011-06-30  0.008310  0.001098    0.031847  0.007212     0.030748"
      ]
     },
     "execution_count": 82,
     "metadata": {},
     "output_type": "execute_result"
    }
   ],
   "source": [
    "Capm_data[\"RET_Exc\"]=Capm_data[\"Return\"]-Capm_data[\"ROI M\"]\n",
    "Capm_data[\"RET_idx_Exc\"]=Capm_data[\"Return_idx\"]-Capm_data[\"ROI M\"]\n",
    "Capm_data.head()"
   ]
  },
  {
   "cell_type": "markdown",
   "id": "fa9a5d5f",
   "metadata": {},
   "source": [
    "## Running Regression to compute Alpha and Beta"
   ]
  },
  {
   "cell_type": "code",
   "execution_count": 97,
   "id": "17391025",
   "metadata": {},
   "outputs": [
    {
     "data": {
      "text/html": [
       "<table class=\"simpletable\">\n",
       "<caption>OLS Regression Results</caption>\n",
       "<tr>\n",
       "  <th>Dep. Variable:</th>         <td>RET_Exc</td>     <th>  R-squared:         </th> <td>   0.561</td>\n",
       "</tr>\n",
       "<tr>\n",
       "  <th>Model:</th>                   <td>OLS</td>       <th>  Adj. R-squared:    </th> <td>   0.558</td>\n",
       "</tr>\n",
       "<tr>\n",
       "  <th>Method:</th>             <td>Least Squares</td>  <th>  F-statistic:       </th> <td>   164.8</td>\n",
       "</tr>\n",
       "<tr>\n",
       "  <th>Date:</th>             <td>Tue, 28 Dec 2021</td> <th>  Prob (F-statistic):</th> <td>8.15e-25</td>\n",
       "</tr>\n",
       "<tr>\n",
       "  <th>Time:</th>                 <td>02:55:59</td>     <th>  Log-Likelihood:    </th> <td>  255.20</td>\n",
       "</tr>\n",
       "<tr>\n",
       "  <th>No. Observations:</th>      <td>   131</td>      <th>  AIC:               </th> <td>  -506.4</td>\n",
       "</tr>\n",
       "<tr>\n",
       "  <th>Df Residuals:</th>          <td>   129</td>      <th>  BIC:               </th> <td>  -500.7</td>\n",
       "</tr>\n",
       "<tr>\n",
       "  <th>Df Model:</th>              <td>     1</td>      <th>                     </th>     <td> </td>   \n",
       "</tr>\n",
       "<tr>\n",
       "  <th>Covariance Type:</th>      <td>nonrobust</td>    <th>                     </th>     <td> </td>   \n",
       "</tr>\n",
       "</table>\n",
       "<table class=\"simpletable\">\n",
       "<tr>\n",
       "       <td></td>          <th>coef</th>     <th>std err</th>      <th>t</th>      <th>P>|t|</th>  <th>[0.025</th>    <th>0.975]</th>  \n",
       "</tr>\n",
       "<tr>\n",
       "  <th>Intercept</th>   <td>    0.0106</td> <td>    0.003</td> <td>    3.476</td> <td> 0.001</td> <td>    0.005</td> <td>    0.017</td>\n",
       "</tr>\n",
       "<tr>\n",
       "  <th>RET_idx_Exc</th> <td>    0.7823</td> <td>    0.061</td> <td>   12.838</td> <td> 0.000</td> <td>    0.662</td> <td>    0.903</td>\n",
       "</tr>\n",
       "</table>\n",
       "<table class=\"simpletable\">\n",
       "<tr>\n",
       "  <th>Omnibus:</th>       <td> 3.030</td> <th>  Durbin-Watson:     </th> <td>   2.139</td>\n",
       "</tr>\n",
       "<tr>\n",
       "  <th>Prob(Omnibus):</th> <td> 0.220</td> <th>  Jarque-Bera (JB):  </th> <td>   2.588</td>\n",
       "</tr>\n",
       "<tr>\n",
       "  <th>Skew:</th>          <td>-0.226</td> <th>  Prob(JB):          </th> <td>   0.274</td>\n",
       "</tr>\n",
       "<tr>\n",
       "  <th>Kurtosis:</th>      <td> 3.519</td> <th>  Cond. No.          </th> <td>    20.1</td>\n",
       "</tr>\n",
       "</table><br/><br/>Notes:<br/>[1] Standard Errors assume that the covariance matrix of the errors is correctly specified."
      ],
      "text/plain": [
       "<class 'statsmodels.iolib.summary.Summary'>\n",
       "\"\"\"\n",
       "                            OLS Regression Results                            \n",
       "==============================================================================\n",
       "Dep. Variable:                RET_Exc   R-squared:                       0.561\n",
       "Model:                            OLS   Adj. R-squared:                  0.558\n",
       "Method:                 Least Squares   F-statistic:                     164.8\n",
       "Date:                Tue, 28 Dec 2021   Prob (F-statistic):           8.15e-25\n",
       "Time:                        02:55:59   Log-Likelihood:                 255.20\n",
       "No. Observations:                 131   AIC:                            -506.4\n",
       "Df Residuals:                     129   BIC:                            -500.7\n",
       "Df Model:                           1                                         \n",
       "Covariance Type:            nonrobust                                         \n",
       "===============================================================================\n",
       "                  coef    std err          t      P>|t|      [0.025      0.975]\n",
       "-------------------------------------------------------------------------------\n",
       "Intercept       0.0106      0.003      3.476      0.001       0.005       0.017\n",
       "RET_idx_Exc     0.7823      0.061     12.838      0.000       0.662       0.903\n",
       "==============================================================================\n",
       "Omnibus:                        3.030   Durbin-Watson:                   2.139\n",
       "Prob(Omnibus):                  0.220   Jarque-Bera (JB):                2.588\n",
       "Skew:                          -0.226   Prob(JB):                        0.274\n",
       "Kurtosis:                       3.519   Cond. No.                         20.1\n",
       "==============================================================================\n",
       "\n",
       "Notes:\n",
       "[1] Standard Errors assume that the covariance matrix of the errors is correctly specified.\n",
       "\"\"\""
      ]
     },
     "execution_count": 97,
     "metadata": {},
     "output_type": "execute_result"
    }
   ],
   "source": [
    "reg_model=sm.ols(formula=\"RET_Exc ~ RET_idx_Exc\", data=Capm_data).fit()\n",
    "\n",
    "reg_model.summary()"
   ]
  },
  {
   "cell_type": "code",
   "execution_count": 106,
   "id": "a756d88c",
   "metadata": {},
   "outputs": [
    {
     "name": "stdout",
     "output_type": "stream",
     "text": [
      "\u001b[1mAlpha of the portfolio is 1.0629%\n",
      "\u001b[1mBeta of the portfolio is 0.78\n"
     ]
    }
   ],
   "source": [
    "print('\\033[1m' + \"Alpha of the portfolio is {}%\".format(round(reg_model.params[\"Intercept\"]*100,4)))\n",
    "print('\\033[1m' + \"Beta of the portfolio is {}\".format(round(reg_model.params[\"RET_idx_Exc\"],2)))"
   ]
  }
 ],
 "metadata": {
  "colab": {
   "collapsed_sections": [
    "0877aec9",
    "e3086185",
    "a2ee2e55",
    "94f6389d",
    "df8ca53f",
    "80c58e1f"
   ],
   "name": "MomentumStrategy.ipynb",
   "provenance": []
  },
  "hide_input": false,
  "kernelspec": {
   "display_name": "Python 3",
   "language": "python",
   "name": "python3"
  },
  "language_info": {
   "codemirror_mode": {
    "name": "ipython",
    "version": 3
   },
   "file_extension": ".py",
   "mimetype": "text/x-python",
   "name": "python",
   "nbconvert_exporter": "python",
   "pygments_lexer": "ipython3",
   "version": "3.8.8"
  }
 },
 "nbformat": 4,
 "nbformat_minor": 5
}
